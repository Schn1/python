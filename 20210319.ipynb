{
 "cells": [
  {
   "cell_type": "code",
   "execution_count": 5,
   "metadata": {},
   "outputs": [
    {
     "name": "stdout",
     "output_type": "stream",
     "text": [
      "116 年以後， 存款加倍 ，為 20015 元\n"
     ]
    }
   ],
   "source": [
    "x=10000\n",
    "years=0\n",
    "while x <= 20000:\n",
    "    x=x*1.006\n",
    "    years += 1\n",
    "print(str(years),\"年以後， 存款加倍 ，為\",int(x),\"元\")"
   ]
  },
  {
   "cell_type": "code",
   "execution_count": 13,
   "metadata": {},
   "outputs": [
    {
     "ename": "IndentationError",
     "evalue": "unexpected indent (<ipython-input-13-6401a8b28ce6>, line 9)",
     "output_type": "error",
     "traceback": [
      "\u001b[1;36m  File \u001b[1;32m\"<ipython-input-13-6401a8b28ce6>\"\u001b[1;36m, line \u001b[1;32m9\u001b[0m\n\u001b[1;33m    else:\u001b[0m\n\u001b[1;37m    ^\u001b[0m\n\u001b[1;31mIndentationError\u001b[0m\u001b[1;31m:\u001b[0m unexpected indent\n"
     ]
    }
   ],
   "source": [
    "id=\"wade\"\n",
    "pwd=\"9602\"\n",
    "while True:\n",
    "    x=input(\"請輸入帳號\")\n",
    "    y=input(\"請輸入密碼\")\n",
    "    if  (x==id and y==pwd):\n",
    "         print(\"歡迎登入\")\n",
    "break\n",
    "    else:\n",
    "        print(\"帳號或密碼輸入錯誤\")"
   ]
  },
  {
   "cell_type": "markdown",
   "metadata": {},
   "source": [
    "## 亂數"
   ]
  },
  {
   "cell_type": "code",
   "execution_count": 14,
   "metadata": {},
   "outputs": [
    {
     "name": "stdout",
     "output_type": "stream",
     "text": [
      "3\n",
      "7\n",
      "9\n",
      "4\n",
      "5\n",
      "9\n",
      "9\n",
      "8\n",
      "2\n",
      "4\n"
     ]
    }
   ],
   "source": [
    "import random\n",
    "for i in range(0,10):\n",
    "    print(random.randint(1,9))"
   ]
  },
  {
   "cell_type": "code",
   "execution_count": 18,
   "metadata": {},
   "outputs": [
    {
     "name": "stdout",
     "output_type": "stream",
     "text": [
      "請輸入1~10之間的數字5\n",
      "猜錯了\n",
      "請輸入1~10之間的數字10\n",
      "猜錯了\n",
      "請輸入1~10之間的數字9\n",
      "猜錯了\n",
      "請輸入1~10之間的數字8\n",
      "猜錯了\n",
      "請輸入1~10之間的數字7\n",
      "猜錯了\n",
      "請輸入1~10之間的數字6\n",
      "猜錯了\n",
      "請輸入1~10之間的數字5\n",
      "猜錯了\n",
      "請輸入1~10之間的數字4\n",
      "猜錯了\n",
      "請輸入1~10之間的數字3\n",
      "猜錯了\n",
      "請輸入1~10之間的數字2\n",
      "你猜對,數字是 2\n"
     ]
    }
   ],
   "source": [
    "import random\n",
    "number=random.randint(1,20)\n",
    "while True:\n",
    "    guess=int(input(\"請輸入1~10之間的數字\"))\n",
    "    if guess ==number:\n",
    "        print(\"你猜對,數字是\",number)\n",
    "        break\n",
    "    else:\n",
    "            print(\"猜錯了\")"
   ]
  },
  {
   "cell_type": "code",
   "execution_count": null,
   "metadata": {},
   "outputs": [],
   "source": []
  }
 ],
 "metadata": {
  "kernelspec": {
   "display_name": "Python 3",
   "language": "python",
   "name": "python3"
  },
  "language_info": {
   "codemirror_mode": {
    "name": "ipython",
    "version": 3
   },
   "file_extension": ".py",
   "mimetype": "text/x-python",
   "name": "python",
   "nbconvert_exporter": "python",
   "pygments_lexer": "ipython3",
   "version": "3.8.5"
  }
 },
 "nbformat": 4,
 "nbformat_minor": 4
}
